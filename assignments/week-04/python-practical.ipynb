{
 "cells": [
  {
   "cell_type": "markdown",
   "metadata": {},
   "source": [
    "# Read PDF file"
   ]
  },
  {
   "cell_type": "markdown",
   "metadata": {},
   "source": [
    "You got an internship position in a company. However, your boss didn't prepare anything for you. So he just wants you to move the data from PDF to Excel. And there are 200 pdf files that you have to do. Your boss thought it will take a couple weeks to move from the PDF to Excel. Because he never learnt programming. Fortunately, you took the Jungwon's programming class."
   ]
  },
  {
   "cell_type": "markdown",
   "metadata": {},
   "source": [
    "## Task 1 : Read the content inside of the PDF file."
   ]
  },
  {
   "cell_type": "markdown",
   "metadata": {},
   "source": [
    "![pdf image](sample-image-1.png)\n"
   ]
  },
  {
   "cell_type": "markdown",
   "metadata": {},
   "source": [
    "The name of the pdf file is sample-PDF.pdf. Your first task is, loading the all data into the python code.\n",
    "\n",
    "There are several options that you can choose.\n",
    "I used this : https://gist.github.com/yoavram/4351598"
   ]
  },
  {
   "cell_type": "code",
   "execution_count": 7,
   "metadata": {},
   "outputs": [],
   "source": [
    "# pdfx usage: http://pdfx.cs.man.ac.uk/usage\n",
    "import requests\n",
    "import pprint\n",
    "from bs4 import BeautifulSoup\n",
    "url = \"http://pdfx.cs.man.ac.uk\""
   ]
  },
  {
   "cell_type": "code",
   "execution_count": 8,
   "metadata": {},
   "outputs": [],
   "source": [
    "def pypdfx(filename):\n",
    "    f = open(filename, 'rb')\n",
    "    files = {'file': f}\n",
    "    try:\n",
    "        print('Sending', filename, 'to', url)\n",
    "        r = requests.post(url, files=files, headers={'Content-Type':'application/pdf'})\n",
    "        print('Got status code', r.status_code)\n",
    "    finally:\n",
    "        f.close()\n",
    "    return r.content"
   ]
  },
  {
   "cell_type": "code",
   "execution_count": 13,
   "metadata": {},
   "outputs": [
    {
     "name": "stdout",
     "output_type": "stream",
     "text": [
      "Sending sample_pdf.pdf to http://pdfx.cs.man.ac.uk\n",
      "Got status code 200\n",
      "b'<?xml version=\\'1.0\\' encoding=\\'UTF-8\\'?>\\n<pdfx xmlns:xsi=\"http://www.w3.org/2001/XMLSchema-instance\" xsi:noNamespaceSchemaLocation=\"http://pdfx.cs.man.ac.uk/static/article-schema.xsd\">\\n  <meta>\\n    <job>7d13364001280ff5ee07b3e1beed4e7d0ad3669c94397c6c21da417c688c8098</job>\\n    <base_name>11m5</base_name>\\n    <doi>http://dx.doi.org/10.1787/888932773369</doi>\\n    <warning>Name identification was not possible. </warning>\\n  </meta>\\n  <article>\\n    <front class=\"DoCO:FrontMatter\">\\n      <title-group>\\n        <article-title class=\"DoCO:Title\" id=\"2\">List of countries by oil imports from Norway 2017</article-title>\\n      </title-group>\\n    </front>\\n    <body class=\"DoCO:BodyMatter\">\\n      <region class=\"DoCO:TextChunk\" id=\"1\" page=\"1\" column=\"1\">List of countries by oil imports from Norway 2017</region>\\n      <outsider class=\"DoCO:TextBox\" type=\"footer\" id=\"3\" page=\"1\" column=\"1\">ISI-Oil October 2018</outsider>\\n      <outsider class=\"DoCO:TextBox\" type=\"footer\" id=\"4\" page=\"1\" column=\"1\">1 Annual data</outsider>\\n      <region class=\"unknown\" id=\"5\" page=\"1\" column=\"1\">S.Korea China Germany January 22,000 44,000 23,000 February 15,000 30,000 25,000 March 16,000 32,000 26,000 April 14,000 28,000 24,000 May 13,000 26,000 43,000 June 19,000 40,000 59,000 July 12,000 50,000 32,000 August 13,000 66,000 23,000 September 10,000 99,000 40,000 October 11,000 111,000 31,000 November 12,000 122,000 22,000 December 22,000 122,000 42,000</region>\\n      <region class=\"DoCO:FigureBox\" id=\"F1\">\\n        <caption class=\"deo:Caption\" id=\"6\" page=\"1\" column=\"1\">Figure 1: This is virtual data.</caption>\\n      </region>\\n      <outsider class=\"DoCO:TextBox\" type=\"page_nr\" id=\"7\" page=\"1\" column=\"1\">1</outsider>\\n    </body>\\n  </article>\\n</pdfx>\\n'\n"
     ]
    }
   ],
   "source": [
    "filename = 'sample_pdf.pdf'\n",
    "respond = pypdfx(filename)\n",
    "print(respond)"
   ]
  },
  {
   "cell_type": "code",
   "execution_count": 10,
   "metadata": {},
   "outputs": [
    {
     "name": "stdout",
     "output_type": "stream",
     "text": [
      "S.Korea China Germany January 22,000 44,000 23,000 February 15,000 30,000 25,000 March 16,000 32,000 26,000 April 14,000 28,000 24,000 May 13,000 26,000 43,000 June 19,000 40,000 59,000 July 12,000 50,000 32,000 August 13,000 66,000 23,000 September 10,000 99,000 40,000 October 11,000 111,000 31,000 November 12,000 122,000 22,000 December 22,000 122,000 42,000\n",
      "{'China': [44000,\n",
      "           30000,\n",
      "           32000,\n",
      "           28000,\n",
      "           26000,\n",
      "           40000,\n",
      "           50000,\n",
      "           66000,\n",
      "           99000,\n",
      "           111000,\n",
      "           122000,\n",
      "           122000],\n",
      " 'Germany': [23000,\n",
      "             25000,\n",
      "             26000,\n",
      "             24000,\n",
      "             43000,\n",
      "             59000,\n",
      "             32000,\n",
      "             23000,\n",
      "             40000,\n",
      "             31000,\n",
      "             22000,\n",
      "             42000],\n",
      " 'S.Korea': [22000,\n",
      "             15000,\n",
      "             16000,\n",
      "             14000,\n",
      "             13000,\n",
      "             19000,\n",
      "             12000,\n",
      "             13000,\n",
      "             10000,\n",
      "             11000,\n",
      "             12000,\n",
      "             22000]}\n"
     ]
    }
   ],
   "source": [
    "#TODO\n",
    "#This is the main part\n",
    "#Hint : Beautiful soup"
   ]
  },
  {
   "cell_type": "markdown",
   "metadata": {},
   "source": [
    "### Calculate the max, min, and average amount of Germany."
   ]
  },
  {
   "cell_type": "code",
   "execution_count": 11,
   "metadata": {},
   "outputs": [
    {
     "name": "stdout",
     "output_type": "stream",
     "text": [
      "Max is 59000.000000\n",
      "Min is 22000.000000\n",
      "Avg is 32500.000000\n"
     ]
    }
   ],
   "source": [
    "max_val = 0 #TODO\n",
    "print(\"Max is %f\" % max_val)\n",
    "min_val = 0 #TODO\n",
    "print(\"Min is %f\" % min_val)\n",
    "avg_val = 0 #TODO\n",
    "print(\"Avg is %f\" % avg_val)"
   ]
  },
  {
   "cell_type": "markdown",
   "metadata": {},
   "source": [
    "## Task 2 : Write the content into the Excel file."
   ]
  },
  {
   "cell_type": "markdown",
   "metadata": {},
   "source": [
    "Now you have to make the Excel file. The most important point is the last row should be the total amount of each column using SUM function."
   ]
  },
  {
   "cell_type": "markdown",
   "metadata": {},
   "source": [
    "![sample image](sample-image-2.png)\n"
   ]
  },
  {
   "cell_type": "code",
   "execution_count": 12,
   "metadata": {},
   "outputs": [],
   "source": [
    "import xlsxwriter\n",
    "import calendar\n",
    "\n",
    "workbook = xlsxwriter.Workbook('sample-xls.xlsx')\n",
    "worksheet = workbook.add_worksheet()\n",
    "\n",
    "#This is the main part\n",
    "#You can google \"How to use xlsxwriter\"\n",
    "    \n",
    "\n",
    "workbook.close()"
   ]
  },
  {
   "cell_type": "markdown",
   "metadata": {},
   "source": [
    "## Final check point\n",
    "### Will your code work for the different number of the column?"
   ]
  },
  {
   "cell_type": "code",
   "execution_count": null,
   "metadata": {},
   "outputs": [],
   "source": []
  }
 ],
 "metadata": {
  "kernelspec": {
   "display_name": "Python 3",
   "language": "python",
   "name": "python3"
  },
  "language_info": {
   "codemirror_mode": {
    "name": "ipython",
    "version": 3
   },
   "file_extension": ".py",
   "mimetype": "text/x-python",
   "name": "python",
   "nbconvert_exporter": "python",
   "pygments_lexer": "ipython3",
   "version": "3.7.0"
  }
 },
 "nbformat": 4,
 "nbformat_minor": 2
}
