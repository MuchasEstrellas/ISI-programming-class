{
 "cells": [
  {
   "cell_type": "markdown",
   "metadata": {},
   "source": [
    "# Read PDF file"
   ]
  },
  {
   "cell_type": "markdown",
   "metadata": {},
   "source": [
    "You got an internship position in a company. However, your boss didn't prepare anything for you. So he just wants you to move the data from PDF to Excel. And there are 200 pdf files that you have to do. Your boss thought it will take a couple weeks to move from the PDF to Excel. Because he never learnt programming. Fortunately, you took the Jungwon's programming class."
   ]
  },
  {
   "cell_type": "markdown",
   "metadata": {},
   "source": [
    "## Task 1 : Read the content inside of the PDF file."
   ]
  },
  {
   "cell_type": "markdown",
   "metadata": {},
   "source": [
    "![pdf image](sample-image-1.png)\n"
   ]
  },
  {
   "cell_type": "markdown",
   "metadata": {},
   "source": [
    "The name of the pdf file is sample-PDF.pdf. Your first task is, loading the all data into the python code.\n",
    "\n",
    "There are several options that you can choose.\n",
    "I used this : https://gist.github.com/yoavram/4351598"
   ]
  },
  {
   "cell_type": "code",
   "execution_count": 1,
   "metadata": {},
   "outputs": [],
   "source": [
    "# pdfx usage: http://pdfx.cs.man.ac.uk/usage\n",
    "import requests\n",
    "import pprint\n",
    "from bs4 import BeautifulSoup\n",
    "url = \"http://pdfx.cs.man.ac.uk\""
   ]
  },
  {
   "cell_type": "code",
   "execution_count": 2,
   "metadata": {},
   "outputs": [],
   "source": [
    "def pypdfx(filename):\n",
    "    f = open(filename, 'rb')\n",
    "    files = {'file': f}\n",
    "    try:\n",
    "        print('Sending', filename, 'to', url)\n",
    "        r = requests.post(url, files=files, headers={'Content-Type':'application/pdf'})\n",
    "        print('Got status code', r.status_code)\n",
    "    finally:\n",
    "        f.close()\n",
    "    return r.content"
   ]
  },
  {
   "cell_type": "code",
   "execution_count": null,
   "metadata": {},
   "outputs": [
    {
     "name": "stdout",
     "output_type": "stream",
     "text": [
      "Sending sample_pdf.pdf to http://pdfx.cs.man.ac.uk\n"
     ]
    }
   ],
   "source": [
    "filename = 'sample_pdf.pdf'\n",
    "respond = pypdfx(filename)"
   ]
  },
  {
   "cell_type": "code",
   "execution_count": null,
   "metadata": {},
   "outputs": [],
   "source": [
    "soup = BeautifulSoup(respond, \"xml\")\n",
    "content = soup.find('region',{\"id\": \"5\"}).contents[0]\n",
    "print(content)\n",
    "new_list = [\"empty\"]+content.split(\" \")\n",
    "num_of_col = content[0:content.index('January')].count(\" \") + 1\n",
    "\n",
    "data = {}\n",
    "\n",
    "for i in range(0,len(new_list),num_of_col) :\n",
    "    if i < num_of_col :\n",
    "        #make keys with each countries name\n",
    "        for k in range(1,num_of_col):\n",
    "            data[new_list[k]]=[]\n",
    "    else :\n",
    "        for k in range(1,num_of_col):\n",
    "            data[new_list[k]].append(int(new_list[i+k].replace(\",\",\"\")))\n",
    "            \n",
    "\n",
    "pprint.pprint(data)"
   ]
  },
  {
   "cell_type": "markdown",
   "metadata": {},
   "source": [
    "### Calculate the max, min, and average amount from Germany."
   ]
  },
  {
   "cell_type": "code",
   "execution_count": null,
   "metadata": {},
   "outputs": [],
   "source": [
    "max_val = max(data[\"Germany\"])\n",
    "print(\"Max is %f\" % max_val)\n",
    "min_val = min(data[\"Germany\"])\n",
    "print(\"Min is %f\" % min_val)\n",
    "avg_val = sum(data[\"Germany\"])/float(len(data[\"Germany\"]))\n",
    "print(\"Avg is %f\" % avg_val)"
   ]
  },
  {
   "cell_type": "markdown",
   "metadata": {},
   "source": [
    "## Task 2 : Write the content into the Excel file."
   ]
  },
  {
   "cell_type": "markdown",
   "metadata": {},
   "source": [
    "Now you have to make the Excel file. The most important point is the last row should be the total amount of each column using SUM function."
   ]
  },
  {
   "cell_type": "markdown",
   "metadata": {},
   "source": [
    "![sample image](sample-image-2.png)\n"
   ]
  },
  {
   "cell_type": "code",
   "execution_count": null,
   "metadata": {},
   "outputs": [],
   "source": [
    "import xlsxwriter\n",
    "import calendar\n",
    "\n",
    "workbook = xlsxwriter.Workbook('sample-xls.xlsx')\n",
    "worksheet = workbook.add_worksheet()\n",
    "\n",
    "row = 0\n",
    "\n",
    "\n",
    "cols = list(data.keys())\n",
    "worksheet.write(row, 0,\"\")\n",
    "for i in range(len(cols)):\n",
    "    worksheet.write(row, i+1, cols[i])\n",
    "row += 1 \n",
    "\n",
    "for i in range(0,12):\n",
    "    worksheet.write(row, 0, calendar.month_name[i+1])\n",
    "    for k, v in enumerate(cols) : \n",
    "        worksheet.write(row, k+1, data[v][i])\n",
    "    row += 1\n",
    "\n",
    "\n",
    "# Write a total using a formula.\n",
    "worksheet.write(row, 0, 'Total')\n",
    "for i in range(len(cols)):\n",
    "    col = chr(ord('A')+1+i)\n",
    "    func = '=SUM(%s%d:%s%d)' % (col,2,col,row)\n",
    "    worksheet.write(row, i+1, func)\n",
    "    \n",
    "\n",
    "workbook.close()"
   ]
  },
  {
   "cell_type": "markdown",
   "metadata": {},
   "source": [
    "## Final check point\n",
    "### Will your code work for the different number of the column?"
   ]
  },
  {
   "cell_type": "code",
   "execution_count": null,
   "metadata": {},
   "outputs": [],
   "source": []
  }
 ],
 "metadata": {
  "kernelspec": {
   "display_name": "Python 3",
   "language": "python",
   "name": "python3"
  },
  "language_info": {
   "codemirror_mode": {
    "name": "ipython",
    "version": 3
   },
   "file_extension": ".py",
   "mimetype": "text/x-python",
   "name": "python",
   "nbconvert_exporter": "python",
   "pygments_lexer": "ipython3",
   "version": "3.7.0"
  }
 },
 "nbformat": 4,
 "nbformat_minor": 2
}
