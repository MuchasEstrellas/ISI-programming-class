{
 "cells": [
  {
   "cell_type": "markdown",
   "metadata": {},
   "source": [
    "# Python Quiz"
   ]
  },
  {
   "cell_type": "markdown",
   "metadata": {},
   "source": [
    "## 1. Math Library"
   ]
  },
  {
   "cell_type": "code",
   "execution_count": 1,
   "metadata": {},
   "outputs": [],
   "source": [
    "# You need to import this library\n",
    "import math"
   ]
  },
  {
   "cell_type": "markdown",
   "metadata": {},
   "source": [
    "### 1-1. How do you present the infinity number in Python?"
   ]
  },
  {
   "cell_type": "code",
   "execution_count": 2,
   "metadata": {},
   "outputs": [
    {
     "name": "stdout",
     "output_type": "stream",
     "text": [
      "inf\n"
     ]
    }
   ],
   "source": [
    "answer = 0 #TODO\n",
    "print(answer)"
   ]
  },
  {
   "cell_type": "markdown",
   "metadata": {},
   "source": [
    "### 1-2. What about the negative infinity?"
   ]
  },
  {
   "cell_type": "code",
   "execution_count": 3,
   "metadata": {},
   "outputs": [
    {
     "name": "stdout",
     "output_type": "stream",
     "text": [
      "-inf\n"
     ]
    }
   ],
   "source": [
    "answer = 0 #TODO\n",
    "print(answer)"
   ]
  },
  {
   "cell_type": "markdown",
   "metadata": {},
   "source": [
    "### 1-3. We know that PI is 3.141592653589793. Mark to the third decimal place using round, floor, ceil functions \n",
    "    - Hint: floor and ceil functions don't take the digits number as their parameter."
   ]
  },
  {
   "cell_type": "code",
   "execution_count": 4,
   "metadata": {},
   "outputs": [
    {
     "name": "stdout",
     "output_type": "stream",
     "text": [
      "3.142\n",
      "3.141\n",
      "3.142\n"
     ]
    }
   ],
   "source": [
    "PI = math.pi\n",
    "round_val = PI #TODO\n",
    "print(round_val)\n",
    "floor_val = PI #TODO\n",
    "print(floor_val)\n",
    "ceil_val = PI #TODO\n",
    "print(ceil_val)"
   ]
  },
  {
   "cell_type": "markdown",
   "metadata": {},
   "source": [
    "### 1-4. We all know cos(90 degree) is 0, how do you present in Python? \n",
    "    - Google1: Radian to degree in Python \n",
    "    - Google2: Python cos 90 is wrong"
   ]
  },
  {
   "cell_type": "code",
   "execution_count": 5,
   "metadata": {},
   "outputs": [
    {
     "name": "stdout",
     "output_type": "stream",
     "text": [
      "6.123233995736766e-17\n"
     ]
    }
   ],
   "source": [
    "answer = 0 #TODO\n",
    "print(answer)"
   ]
  },
  {
   "cell_type": "markdown",
   "metadata": {},
   "source": [
    "## 2. String Manipulation"
   ]
  },
  {
   "cell_type": "code",
   "execution_count": 6,
   "metadata": {},
   "outputs": [],
   "source": [
    "sample_text = \"Learning Python = Learning English\""
   ]
  },
  {
   "cell_type": "markdown",
   "metadata": {},
   "source": [
    "### 2-1. Make all string to uppercase letter"
   ]
  },
  {
   "cell_type": "code",
   "execution_count": 7,
   "metadata": {},
   "outputs": [
    {
     "name": "stdout",
     "output_type": "stream",
     "text": [
      "LEARNING PYTHON = LEARNING ENGLISH\n"
     ]
    }
   ],
   "source": [
    "upper_version = sample_text #TODO\n",
    "print(upper_version)"
   ]
  },
  {
   "cell_type": "markdown",
   "metadata": {},
   "source": [
    "### 2-2. Make all string to lowercase letter"
   ]
  },
  {
   "cell_type": "code",
   "execution_count": 8,
   "metadata": {},
   "outputs": [
    {
     "name": "stdout",
     "output_type": "stream",
     "text": [
      "learning python = learning english\n"
     ]
    }
   ],
   "source": [
    "lower_version = sample_text #TODO\n",
    "print(lower_version)"
   ]
  },
  {
   "cell_type": "markdown",
   "metadata": {},
   "source": [
    "### 2-3. Split into two part, \"Learning Python\" and \"Learning English\""
   ]
  },
  {
   "cell_type": "code",
   "execution_count": 9,
   "metadata": {},
   "outputs": [
    {
     "name": "stdout",
     "output_type": "stream",
     "text": [
      "['Learning Python', 'Learning English']\n"
     ]
    }
   ],
   "source": [
    "split_version = sample_text #TODO\n",
    "print(split_version)"
   ]
  },
  {
   "cell_type": "markdown",
   "metadata": {},
   "source": [
    "### 2-4. Make it back to origin, \"Learning Python = Learning English\""
   ]
  },
  {
   "cell_type": "code",
   "execution_count": 10,
   "metadata": {},
   "outputs": [
    {
     "name": "stdout",
     "output_type": "stream",
     "text": [
      "Learning Python = Learning English\n"
     ]
    }
   ],
   "source": [
    "origin_version = split_version #TODO\n",
    "print(origin_version)"
   ]
  },
  {
   "cell_type": "markdown",
   "metadata": {},
   "source": [
    "## 3. List manipulation"
   ]
  },
  {
   "cell_type": "markdown",
   "metadata": {},
   "source": [
    "### 3-1. Sort the list in acending order"
   ]
  },
  {
   "cell_type": "code",
   "execution_count": 11,
   "metadata": {},
   "outputs": [
    {
     "name": "stdout",
     "output_type": "stream",
     "text": [
      "[0, 1, 2, 3, 4, 5, 6, 7, 8, 9]\n"
     ]
    }
   ],
   "source": [
    "sample_list = [5,2,1,7,8,4,3,0,9,6]\n",
    "sorted_version = sample_list #TODO\n",
    "print(sorted_version)"
   ]
  },
  {
   "cell_type": "markdown",
   "metadata": {},
   "source": [
    "### 3-2. Sort the list in decending order"
   ]
  },
  {
   "cell_type": "code",
   "execution_count": 12,
   "metadata": {},
   "outputs": [
    {
     "name": "stdout",
     "output_type": "stream",
     "text": [
      "[9, 8, 7, 6, 5, 4, 3, 2, 1, 0]\n"
     ]
    }
   ],
   "source": [
    "sample_list = [5,2,1,7,8,4,3,0,9,6]\n",
    "sorted_version = sample_list #TODO\n",
    "print(sorted_version)"
   ]
  },
  {
   "cell_type": "markdown",
   "metadata": {},
   "source": [
    "### 3-3. Code 3x3 Matrix using two-dimensional list"
   ]
  },
  {
   "cell_type": "code",
   "execution_count": 13,
   "metadata": {},
   "outputs": [
    {
     "name": "stdout",
     "output_type": "stream",
     "text": [
      "[[1, 2, 3], [4, 5, 6], [7, 8, 9]]\n"
     ]
    }
   ],
   "source": [
    "# the value will be from 1 to 9\n",
    "matrix = [] #TODO\n",
    "print(matrix)"
   ]
  },
  {
   "cell_type": "markdown",
   "metadata": {},
   "source": [
    "### 3-4 Let's say the matrix you just made is A, then how you calcualte A^2?"
   ]
  },
  {
   "cell_type": "code",
   "execution_count": 14,
   "metadata": {},
   "outputs": [
    {
     "name": "stdout",
     "output_type": "stream",
     "text": [
      "[[1, 2, 3], [4, 5, 6], [7, 8, 9]]\n"
     ]
    }
   ],
   "source": [
    "A = matrix\n",
    "#TODO : hint use for loop statment.\n",
    "A_2 = A\n",
    "print(A_2)"
   ]
  },
  {
   "cell_type": "markdown",
   "metadata": {},
   "source": [
    "## 4. Dictionary manipulation"
   ]
  },
  {
   "cell_type": "markdown",
   "metadata": {},
   "source": [
    "### 4-1. Print the sample dictionary in descending order of the key."
   ]
  },
  {
   "cell_type": "code",
   "execution_count": 15,
   "metadata": {},
   "outputs": [],
   "source": [
    "sample_dict = {\"Norway\":[\"handball\",\"ski\"], \"China\":[\"Table tennis\", \"Badminton\"], \n",
    "               \"S.Korea\":[\"Archery\",\"Skating\"],\"USA\":[\"Basketball\", \"Baseball\"]}"
   ]
  },
  {
   "cell_type": "code",
   "execution_count": 16,
   "metadata": {},
   "outputs": [
    {
     "name": "stdout",
     "output_type": "stream",
     "text": [
      "[('USA', ['Basketball', 'Baseball']), ('S.Korea', ['Archery', 'Skating']), ('Norway', ['handball', 'ski']), ('China', ['Table tennis', 'Badminton'])]\n"
     ]
    }
   ],
   "source": [
    "sorted_version = sample_dict #TODO\n",
    "\n",
    "print(sorted_version)\n",
    "#TODO use lambda"
   ]
  },
  {
   "cell_type": "markdown",
   "metadata": {},
   "source": [
    "### 4-2. Print the sample dictionary in ascending order of the value.\n"
   ]
  },
  {
   "cell_type": "code",
   "execution_count": 17,
   "metadata": {},
   "outputs": [],
   "source": [
    "sample_dict = {\"Norway\":47, \"China\":86, \"S.Korea\":82,\"USA\":1}"
   ]
  },
  {
   "cell_type": "code",
   "execution_count": 18,
   "metadata": {},
   "outputs": [
    {
     "name": "stdout",
     "output_type": "stream",
     "text": [
      "[('USA', 1), ('Norway', 47), ('S.Korea', 82), ('China', 86)]\n"
     ]
    }
   ],
   "source": [
    "sorted_version = sample_dict #TODO\n",
    "\n",
    "print(sorted_version)\n",
    "#TODO use lambda"
   ]
  },
  {
   "cell_type": "markdown",
   "metadata": {},
   "source": [
    "## 5. Collection Library"
   ]
  },
  {
   "cell_type": "markdown",
   "metadata": {},
   "source": [
    "### 5-1. Count the number of each elements in the sample list"
   ]
  },
  {
   "cell_type": "code",
   "execution_count": 19,
   "metadata": {},
   "outputs": [],
   "source": [
    "sample_list = [\"Norway\",\"Korea\",\"Spain\",\"China\",\"USA\",\"Japan\",\"Turkey\",\"Iran\",\"Bulgaria\",\"Korea\",\n",
    "              \"Norway\",\"Norway\",\"Iran\",\"Iran\",\"USA\",\"China\",\"Spain\",\"Spain\",\"Turkey\",\"Norway\"]"
   ]
  },
  {
   "cell_type": "code",
   "execution_count": 20,
   "metadata": {},
   "outputs": [
    {
     "name": "stdout",
     "output_type": "stream",
     "text": [
      "Counter({'Norway': 4, 'Spain': 3, 'Iran': 3, 'Korea': 2, 'China': 2, 'USA': 2, 'Turkey': 2, 'Japan': 1, 'Bulgaria': 1})\n"
     ]
    }
   ],
   "source": [
    "import collections\n",
    "counted_list = sample_list #TODO\n",
    "print(counted_list)"
   ]
  }
 ],
 "metadata": {
  "kernelspec": {
   "display_name": "Python 3",
   "language": "python",
   "name": "python3"
  },
  "language_info": {
   "codemirror_mode": {
    "name": "ipython",
    "version": 3
   },
   "file_extension": ".py",
   "mimetype": "text/x-python",
   "name": "python",
   "nbconvert_exporter": "python",
   "pygments_lexer": "ipython3",
   "version": "3.7.0"
  }
 },
 "nbformat": 4,
 "nbformat_minor": 2
}
