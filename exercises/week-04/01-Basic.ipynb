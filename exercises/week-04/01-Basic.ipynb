{
 "cells": [
  {
   "cell_type": "markdown",
   "metadata": {},
   "source": [
    "# Python Basic"
   ]
  },
  {
   "cell_type": "markdown",
   "metadata": {},
   "source": [
    "## 1. Variable: Number"
   ]
  },
  {
   "cell_type": "code",
   "execution_count": 1,
   "metadata": {},
   "outputs": [
    {
     "name": "stdout",
     "output_type": "stream",
     "text": [
      "a is 10\n",
      "b is 2\n",
      "a+b is 12\n",
      "a-b is 8\n",
      "a*b is 20\n",
      "a/b is 5\n",
      "a**b is 100\n"
     ]
    }
   ],
   "source": [
    "a = 10\n",
    "b = 2\n",
    "#make the same output like below\n",
    "print('a is %d' % a)\n",
    "print('b is %d' % b)\n",
    "print('a+b is %d' % (a+b))\n",
    "print('a-b is %d' % (a-b))\n",
    "print('a*b is %d' % (a*b))\n",
    "print('a/b is %d' % (a/b))\n",
    "print('a**b is %d' % (a**b))"
   ]
  },
  {
   "cell_type": "markdown",
   "metadata": {},
   "source": [
    "## 2. Variable: Boolean"
   ]
  },
  {
   "cell_type": "code",
   "execution_count": 2,
   "metadata": {},
   "outputs": [
    {
     "name": "stdout",
     "output_type": "stream",
     "text": [
      "a is True\n",
      "b is False\n",
      "a+b is 1\n",
      "a*b is 0\n",
      "a&b is False\n",
      "a|b is True\n",
      "5>3 is True\n",
      "5<3 is False\n"
     ]
    }
   ],
   "source": [
    "a = True\n",
    "b = False\n",
    "print('a is %r' % a)\n",
    "print('b is %r' % b)\n",
    "print('a+b is %r' % (a+b))\n",
    "print('a*b is %r' % (a*b))\n",
    "print('a&b is %r' % (a&b))\n",
    "print('a|b is %r' % (a|b))\n",
    "print('5>3 is %r' % (5>3))\n",
    "print('5<3 is %r' % (5<3))"
   ]
  },
  {
   "cell_type": "markdown",
   "metadata": {},
   "source": [
    "## 3. Variable: String"
   ]
  },
  {
   "cell_type": "code",
   "execution_count": 3,
   "metadata": {},
   "outputs": [
    {
     "name": "stdout",
     "output_type": "stream",
     "text": [
      "a is Hello\n",
      "b is Jungwon\n",
      "a+b is HelloJungwon\n",
      "the length of c is 17\n",
      "replace o to k in string c => Welckme tk Nkrway\n",
      "split by space c is => ['Welcome', 'to', 'Norway']\n"
     ]
    }
   ],
   "source": [
    "a = \"Hello\"\n",
    "b = \"Jungwon\"\n",
    "c = \"Welcome to Norway\"\n",
    "\n",
    "print('a is %s' % a)\n",
    "print('b is %s' % b)\n",
    "print('a+b is %s' % (a+b))\n",
    "print('the length of c is %d' % len(c))\n",
    "print('replace o to k in string c => %s' % (c.replace('o','k')))\n",
    "print('split by space c is => %s' % (c.split(' ')))\n",
    "\n"
   ]
  },
  {
   "cell_type": "markdown",
   "metadata": {},
   "source": [
    "## 4. Variable: List"
   ]
  },
  {
   "cell_type": "code",
   "execution_count": 4,
   "metadata": {},
   "outputs": [
    {
     "name": "stdout",
     "output_type": "stream",
     "text": [
      "a is [1, 2, 3, 4]\n",
      "b is ['a', 'a', 'b', 'c']\n",
      "a+b is [1, 2, 3, 4, 'a', 'a', 'b', 'c']\n",
      "a*3 is [1, 2, 3, 4, 1, 2, 3, 4, 1, 2, 3, 4]\n",
      "size of a is 4\n",
      "the first element of a is 1\n",
      "the last element of a is 4\n",
      "the second and third elements are [2, 3]\n",
      "Is 5 in a ? False\n",
      "The maximum value in a is 4\n",
      "How many \"a\" is in the list b = 2\n",
      "We can append 5 to list a [1, 2, 3, 4, 5]\n",
      "We can pop the last element from list a [1, 2, 3, 4]\n"
     ]
    }
   ],
   "source": [
    "a = [1, 2, 3, 4]\n",
    "b = ['a','a','b','c']\n",
    "print('a is %s' % a)\n",
    "print('b is %s' % b)\n",
    "print('a+b is %s'% (a+b))\n",
    "print('a*3 is %s'% (a*3))\n",
    "print('size of a is %d' % len(a))\n",
    "print('the first element of a is %d' % a[0])\n",
    "print('the last element of a is %d' % a[-1])\n",
    "print('the second and third elements are %s' % a[1:3])\n",
    "print('Is 5 in a ? %s' % (5 in a))\n",
    "print('The maximum value in a is %d' % max(a))\n",
    "\n",
    "print('How many \"a\" is in the list b = %d' % b.count('a'))\n",
    "a.append(5)\n",
    "print('We can append 5 to list a %s' % a)\n",
    "a.pop()\n",
    "print('We can pop the last element from list a %s' % a)"
   ]
  },
  {
   "cell_type": "markdown",
   "metadata": {},
   "source": [
    "## 4. Variable: Dictionary"
   ]
  },
  {
   "cell_type": "code",
   "execution_count": 5,
   "metadata": {},
   "outputs": [
    {
     "name": "stdout",
     "output_type": "stream",
     "text": [
      "a is {'school': 'uis', 'major': 'CS', 'age': 28, 'norwegian': False, 'languages': ['English', 'Korean']} \n",
      "the number of key in a is 5 \n",
      "the keys in dictionary a are dict_keys(['school', 'major', 'age', 'norwegian', 'languages']) \n",
      "the items in dictionary a are dict_items([('school', 'uis'), ('major', 'CS'), ('age', 28), ('norwegian', False), ('languages', ['English', 'Korean'])]) \n",
      "He can speak 2 languages\n",
      "He is 28 years old\n",
      "He is 28 years old\n",
      "He is None years old\n"
     ]
    },
    {
     "ename": "KeyError",
     "evalue": "'ages'",
     "output_type": "error",
     "traceback": [
      "\u001b[0;31m---------------------------------------------------------------------------\u001b[0m",
      "\u001b[0;31mKeyError\u001b[0m                                  Traceback (most recent call last)",
      "\u001b[0;32m<ipython-input-5-4da862f405a1>\u001b[0m in \u001b[0;36m<module>\u001b[0;34m()\u001b[0m\n\u001b[1;32m     14\u001b[0m \u001b[0;34m\u001b[0m\u001b[0m\n\u001b[1;32m     15\u001b[0m \u001b[0mprint\u001b[0m\u001b[0;34m(\u001b[0m\u001b[0;34m'He is %s years old'\u001b[0m \u001b[0;34m%\u001b[0m \u001b[0ma\u001b[0m\u001b[0;34m.\u001b[0m\u001b[0mget\u001b[0m\u001b[0;34m(\u001b[0m\u001b[0;34m'ages'\u001b[0m\u001b[0;34m)\u001b[0m\u001b[0;34m)\u001b[0m\u001b[0;34m\u001b[0m\u001b[0m\n\u001b[0;32m---> 16\u001b[0;31m \u001b[0mprint\u001b[0m\u001b[0;34m(\u001b[0m\u001b[0;34m'He is %s years old'\u001b[0m \u001b[0;34m%\u001b[0m \u001b[0ma\u001b[0m\u001b[0;34m[\u001b[0m\u001b[0;34m'ages'\u001b[0m\u001b[0;34m]\u001b[0m\u001b[0;34m)\u001b[0m\u001b[0;34m\u001b[0m\u001b[0m\n\u001b[0m",
      "\u001b[0;31mKeyError\u001b[0m: 'ages'"
     ]
    }
   ],
   "source": [
    "a = {'school':'uis', 'major':'CS', 'age':28, 'norwegian':False, 'languages':['English','Korean']}\n",
    "print('a is %s ' % a)\n",
    "print('the number of key in a is %s ' % len(a))\n",
    "print('the keys in dictionary a are %s ' % a.keys())\n",
    "print('the items in dictionary a are %s ' % a.items())\n",
    "\n",
    "\n",
    "\n",
    "print('He can speak %d languages' % len(a.get('languages')))\n",
    "\n",
    "#two ways to access the value\n",
    "print('He is %d years old' % a.get('age'))\n",
    "print('He is %d years old' % a['age'])\n",
    "\n",
    "print('He is %s years old' % a.get('ages'))\n",
    "print('He is %s years old' % a['ages'])\n"
   ]
  },
  {
   "cell_type": "markdown",
   "metadata": {},
   "source": [
    "## 5. Variable: Set"
   ]
  },
  {
   "cell_type": "code",
   "execution_count": 6,
   "metadata": {},
   "outputs": [
    {
     "name": "stdout",
     "output_type": "stream",
     "text": [
      "a is [1, 1, 2, 2, 3, 3, 3]\n",
      "b is {1, 2, 3}\n",
      "the length of b is 3\n",
      "the difference between b and c is {1}\n",
      "the intersection between b and c is {2, 3}\n",
      "the union between b and c is {1, 2, 3, 4}\n"
     ]
    }
   ],
   "source": [
    "a = [1,1,2,2,3,3,3]\n",
    "b = set(a)\n",
    "c = set([2,3,4])\n",
    "print('a is %s'% a)\n",
    "print('b is %s'% b)\n",
    "print('the length of b is %s'% len(b))\n",
    "\n",
    "print('the difference between b and c is %s'% b.difference(c))\n",
    "print('the intersection between b and c is %s'% b.intersection(c))\n",
    "print('the union between b and c is %s'% b.union(c))\n"
   ]
  },
  {
   "cell_type": "markdown",
   "metadata": {},
   "source": [
    "## 6. Variable: Tuple"
   ]
  },
  {
   "cell_type": "code",
   "execution_count": 7,
   "metadata": {},
   "outputs": [
    {
     "name": "stdout",
     "output_type": "stream",
     "text": [
      "a is (1, 1, 2, 2, 3, 3, 3)\n",
      "the first element in a is 1\n"
     ]
    },
    {
     "ename": "TypeError",
     "evalue": "'tuple' object does not support item assignment",
     "output_type": "error",
     "traceback": [
      "\u001b[0;31m---------------------------------------------------------------------------\u001b[0m",
      "\u001b[0;31mTypeError\u001b[0m                                 Traceback (most recent call last)",
      "\u001b[0;32m<ipython-input-7-343d3b415f12>\u001b[0m in \u001b[0;36m<module>\u001b[0;34m()\u001b[0m\n\u001b[1;32m      2\u001b[0m \u001b[0mprint\u001b[0m\u001b[0;34m(\u001b[0m\u001b[0;34m'a is %s'\u001b[0m\u001b[0;34m%\u001b[0m \u001b[0;34m(\u001b[0m\u001b[0ma\u001b[0m\u001b[0;34m,\u001b[0m\u001b[0;34m)\u001b[0m\u001b[0;34m)\u001b[0m\u001b[0;34m\u001b[0m\u001b[0m\n\u001b[1;32m      3\u001b[0m \u001b[0mprint\u001b[0m\u001b[0;34m(\u001b[0m\u001b[0;34m'the first element in a is %d'\u001b[0m\u001b[0;34m%\u001b[0m \u001b[0;34m(\u001b[0m\u001b[0ma\u001b[0m\u001b[0;34m[\u001b[0m\u001b[0;36m0\u001b[0m\u001b[0;34m]\u001b[0m\u001b[0;34m)\u001b[0m\u001b[0;34m)\u001b[0m\u001b[0;34m\u001b[0m\u001b[0m\n\u001b[0;32m----> 4\u001b[0;31m \u001b[0ma\u001b[0m\u001b[0;34m[\u001b[0m\u001b[0;36m0\u001b[0m\u001b[0;34m]\u001b[0m \u001b[0;34m=\u001b[0m \u001b[0;36m3\u001b[0m\u001b[0;34m\u001b[0m\u001b[0m\n\u001b[0m",
      "\u001b[0;31mTypeError\u001b[0m: 'tuple' object does not support item assignment"
     ]
    }
   ],
   "source": [
    "a = (1,1,2,2,3,3,3)\n",
    "print('a is %s'% (a,))\n",
    "print('the first element in a is %d'% (a[0]))\n",
    "a[0] = 3\n"
   ]
  },
  {
   "cell_type": "markdown",
   "metadata": {},
   "source": [
    "## 7. Condition Statement"
   ]
  },
  {
   "cell_type": "code",
   "execution_count": 8,
   "metadata": {},
   "outputs": [
    {
     "name": "stdout",
     "output_type": "stream",
     "text": [
      "5 is bigger than 3\n",
      "Yes, it is in the list\n",
      "inline if statement 7\n"
     ]
    }
   ],
   "source": [
    "value = 5\n",
    "if value > 3:\n",
    "    print(\"%d is bigger than 3\" % value)\n",
    "elif value == 3:\n",
    "    print(\"%d is equal to\" % value)\n",
    "else:\n",
    "    print(\"%d is smaller than 3\" % value)\n",
    "    \n",
    "test_list = [1,2,3,4,5]\n",
    "\n",
    "if 3 in test_list:\n",
    "    print(\"Yes, it is in the list\")\n",
    "else:\n",
    "    print(\"No it's not\")\n",
    "\n",
    "\n",
    "new_value = 6 if value > 5 else 7\n",
    "print(\"inline if statement %d\" % new_value)"
   ]
  },
  {
   "cell_type": "markdown",
   "metadata": {},
   "source": [
    "## 8. Loop Statement"
   ]
  },
  {
   "cell_type": "code",
   "execution_count": 9,
   "metadata": {},
   "outputs": [
    {
     "name": "stdout",
     "output_type": "stream",
     "text": [
      "the element is 1\n",
      "the element is 2\n",
      "the element is 3\n",
      "the element is 4\n",
      "the element is 5\n",
      "the element is 6\n",
      "the element is 7\n",
      "the 0 th element is 1\n",
      "the 1 th element is 2\n",
      "the 2 th element is 3\n",
      "the 3 th element is 4\n",
      "the 4 th element is 5\n",
      "the 5 th element is 6\n",
      "the 6 th element is 7\n",
      "the key is a\n",
      "the key is b\n",
      "the key is c\n",
      "the key is d\n",
      "the key is e\n",
      "the key is a and the value is 1\n",
      "the key is b and the value is 2\n",
      "the key is c and the value is 3\n",
      "the key is d and the value is 4\n",
      "the key is e and the value is 5\n",
      "the index is 0 and the key is a\n",
      "the index is 1 and the key is b\n",
      "the index is 2 and the key is c\n",
      "the index is 3 and the key is d\n",
      "the index is 4 and the key is e\n",
      "the key is a and the value is 1\n",
      "the key is b and the value is 2\n",
      "the key is c and the value is 3\n",
      "the key is d and the value is 4\n",
      "the key is e and the value is 5\n",
      "the length is 7\n",
      "the length is 6\n",
      "the length is 5\n",
      "the length is 4\n",
      "the length is 3\n",
      "the length is 2\n",
      "the length is 1\n"
     ]
    }
   ],
   "source": [
    "test_list = [1,2,3,4,5,6,7]\n",
    "test_dict = {'a':1,'b':2,'c':3,'d':4,'e':5}\n",
    "\n",
    "for ele in test_list:\n",
    "    print('the element is %d' % ele)\n",
    "for i in range(len(test_list)):\n",
    "    print('the %d th element is %d' % (i,test_list[i]))\n",
    "\n",
    "for key in test_dict:\n",
    "    print('the key is %s' % key)\n",
    "for key in test_dict:\n",
    "    print('the key is %s and the value is %d' % (key,test_dict[key]))\n",
    "    \n",
    "#use enumerate\n",
    "for index, key in enumerate(test_dict):\n",
    "    print('the index is %s and the key is %s' % (index,key))\n",
    "\n",
    "#use items\n",
    "for key, value in test_dict.items():\n",
    "    print('the key is %s and the value is %s' % (key, value))\n",
    "    \n",
    "#while\n",
    "while len(test_list)>0:\n",
    "    print('the length is %d' % (len(test_list)))\n",
    "    test_list.pop()"
   ]
  },
  {
   "cell_type": "markdown",
   "metadata": {},
   "source": [
    "## 9. Function"
   ]
  },
  {
   "cell_type": "code",
   "execution_count": 10,
   "metadata": {},
   "outputs": [
    {
     "name": "stdout",
     "output_type": "stream",
     "text": [
      "this is my function\n",
      "the two to power of two is 4\n"
     ]
    }
   ],
   "source": [
    "def funA():\n",
    "    print('this is my function')\n",
    "\n",
    "def pow2(number):\n",
    "    return number**2\n",
    "    \n",
    "funA()\n",
    "print('the two to power of two is %d' % pow2(2))"
   ]
  },
  {
   "cell_type": "code",
   "execution_count": null,
   "metadata": {},
   "outputs": [],
   "source": []
  }
 ],
 "metadata": {
  "kernelspec": {
   "display_name": "Python 3",
   "language": "python",
   "name": "python3"
  },
  "language_info": {
   "codemirror_mode": {
    "name": "ipython",
    "version": 3
   },
   "file_extension": ".py",
   "mimetype": "text/x-python",
   "name": "python",
   "nbconvert_exporter": "python",
   "pygments_lexer": "ipython3",
   "version": "3.6.5"
  }
 },
 "nbformat": 4,
 "nbformat_minor": 2
}
