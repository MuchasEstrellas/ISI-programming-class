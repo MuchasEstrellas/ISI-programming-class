{
 "cells": [
  {
   "cell_type": "markdown",
   "metadata": {},
   "source": [
    "# Python File I/O\n"
   ]
  },
  {
   "cell_type": "markdown",
   "metadata": {},
   "source": [
    "## 1. User Input"
   ]
  },
  {
   "cell_type": "code",
   "execution_count": 3,
   "metadata": {},
   "outputs": [
    {
     "name": "stdout",
     "output_type": "stream",
     "text": [
      "Enter your input: hello\n",
      "You just typed : hello\n"
     ]
    }
   ],
   "source": [
    "str = input(\"Enter your input: \");\n",
    "print(\"You just typed : %s\" % str)"
   ]
  },
  {
   "cell_type": "markdown",
   "metadata": {},
   "source": [
    "## 2. Normal Text File"
   ]
  },
  {
   "cell_type": "code",
   "execution_count": 9,
   "metadata": {},
   "outputs": [],
   "source": [
    "#write file\n",
    "fo = open(\"./test.txt\", \"w\")\n",
    "fo.write( \"This is a really interesting course \\n\");\n",
    "fo.write( \"Yes I know \\n\");\n",
    "fo.close()"
   ]
  },
  {
   "cell_type": "code",
   "execution_count": 11,
   "metadata": {},
   "outputs": [
    {
     "name": "stdout",
     "output_type": "stream",
     "text": [
      "This is a really interesting course \n",
      "\n",
      "Yes I know \n",
      "\n"
     ]
    }
   ],
   "source": [
    "fo = open(\"./test.txt\", \"r\")\n",
    "for line in fo:\n",
    "    print(line)\n",
    "fo.close()"
   ]
  },
  {
   "cell_type": "markdown",
   "metadata": {},
   "source": [
    "## 3. CSV and TSV"
   ]
  },
  {
   "cell_type": "code",
   "execution_count": 27,
   "metadata": {},
   "outputs": [
    {
     "name": "stdout",
     "output_type": "stream",
     "text": [
      "['policyID', 'statecode', 'county', 'eq_site_limit', 'hu_site_limit', 'fl_site_limit', 'fr_site_limit', 'tiv_2011', 'tiv_2012', 'eq_site_deductible', 'hu_site_deductible', 'fl_site_deductible', 'fr_site_deductible', 'point_latitude', 'point_longitude', 'line', 'construction', 'point_granularity']\n",
      "['119736', 'FL', 'CLAY COUNTY', '498960', '498960', '498960', '498960', '498960', '792148.9', '0', '9979.2', '0', '0', '30.102261', '-81.711777', 'Residential', 'Masonry', '1']\n",
      "['448094', 'FL', 'CLAY COUNTY', '1322376.3', '1322376.3', '1322376.3', '1322376.3', '1322376.3', '1438163.57', '0', '0', '0', '0', '30.063936', '-81.707664', 'Residential', 'Masonry', '3']\n",
      "['206893', 'FL', 'CLAY COUNTY', '190724.4', '190724.4', '190724.4', '190724.4', '190724.4', '192476.78', '0', '0', '0', '0', '30.089579', '-81.700455', 'Residential', 'Wood', '1']\n",
      "['333743', 'FL', 'CLAY COUNTY', '0', '79520.76', '0', '0', '79520.76', '86854.48', '0', '0', '0', '0', '30.063236', '-81.707703', 'Residential', 'Wood', '3']\n",
      "['172534', 'FL', 'CLAY COUNTY', '0', '254281.5', '0', '254281.5', '254281.5', '246144.49', '0', '0', '0', '0', '30.060614', '-81.702675', 'Residential', 'Wood', '1']\n",
      "['785275', 'FL', 'CLAY COUNTY', '0', '515035.62', '0', '0', '515035.62', '884419.17', '0', '0', '0', '0', '30.063236', '-81.707703', 'Residential', 'Masonry', '3']\n",
      "['995932', 'FL', 'CLAY COUNTY', '0', '19260000', '0', '0', '19260000', '20610000', '0', '0', '0', '0', '30.102226', '-81.713882', 'Commercial', 'Reinforced Concrete', '1']\n",
      "['223488', 'FL', 'CLAY COUNTY', '328500', '328500', '328500', '328500', '328500', '348374.25', '0', '16425', '0', '0', '30.102217', '-81.707146', 'Residential', 'Wood', '1']\n",
      "['433512', 'FL', 'CLAY COUNTY', '315000', '315000', '315000', '315000', '315000', '265821.57', '0', '15750', '0', '0', '30.118774', '-81.704613', 'Residential', 'Wood', '1']\n",
      "['142071', 'FL', 'CLAY COUNTY', '705600', '705600', '705600', '705600', '705600', '1010842.56', '14112', '35280', '0', '0', '30.100628', '-81.703751', 'Residential', 'Masonry', '1']\n",
      "['253816', 'FL', 'CLAY COUNTY', '831498.3', '831498.3', '831498.3', '831498.3', '831498.3', '1117791.48', '0', '0', '0', '0', '30.10216', '-81.719444', 'Residential', 'Masonry', '1']\n",
      "['894922', 'FL', 'CLAY COUNTY', '0', '24059.09', '0', '0', '24059.09', '33952.19', '0', '0', '0', '0', '30.095957', '-81.695099', 'Residential', 'Wood', '1']\n",
      "['422834', 'FL', 'CLAY COUNTY', '0', '48115.94', '0', '0', '48115.94', '66755.39', '0', '0', '0', '0', '30.100073', '-81.739822', 'Residential', 'Wood', '1']\n",
      "['582721', 'FL', 'CLAY COUNTY', '0', '28869.12', '0', '0', '28869.12', '42826.99', '0', '0', '0', '0', '30.09248', '-81.725167', 'Residential', 'Wood', '1']\n",
      "['842700', 'FL', 'CLAY COUNTY', '0', '56135.64', '0', '0', '56135.64', '50656.8', '0', '0', '0', '0', '30.101356', '-81.726248', 'Residential', 'Wood', '1']\n",
      "['874333', 'FL', 'CLAY COUNTY', '0', '48115.94', '0', '0', '48115.94', '67905.07', '0', '0', '0', '0', '30.113743', '-81.727463', 'Residential', 'Wood', '1']\n",
      "['580146', 'FL', 'CLAY COUNTY', '0', '48115.94', '0', '0', '48115.94', '66938.9', '0', '0', '0', '0', '30.121655', '-81.732391', 'Residential', 'Wood', '3']\n",
      "['456149', 'FL', 'CLAY COUNTY', '0', '80192.49', '0', '0', '80192.49', '86421.04', '0', '0', '0', '0', '30.109537', '-81.741661', 'Residential', 'Wood', '1']\n",
      "['767862', 'FL', 'CLAY COUNTY', '0', '48115.94', '0', '0', '48115.94', '73798.5', '0', '0', '0', '0', '30.11824', '-81.745335', 'Residential', 'Wood', '3']\n",
      "['353022', 'FL', 'CLAY COUNTY', '0', '60946.79', '0', '0', '60946.79', '62467.29', '0', '0', '0', '0', '30.065799', '-81.717416', 'Residential', 'Wood', '1']\n",
      "['367814', 'FL', 'CLAY COUNTY', '0', '28869.12', '0', '0', '28869.12', '42727.74', '0', '0', '0', '0', '30.082993', '-81.710581', 'Residential', 'Wood', '1']\n",
      "['671392', 'FL', 'CLAY COUNTY', '0', '13410000', '0', '0', '13410000', '11700000', '0', '0', '0', '0', '30.091921', '-81.711929', 'Commercial', 'Reinforced Concrete', '3']\n",
      "['772887', 'FL', 'CLAY COUNTY', '0', '1669113.93', '0', '0', '1669113.93', '2099127.76', '0', '0', '0', '0', '30.117352', '-81.711884', 'Residential', 'Masonry', '1']\n",
      "['983122', 'FL', 'CLAY COUNTY', '0', '179562.23', '0', '0', '179562.23', '211372.57', '0', '0', '0', '0', '30.095783', '-81.713181', 'Residential', 'Wood', '3']\n",
      "['934215', 'FL', 'CLAY COUNTY', '0', '177744.16', '0', '0', '177744.16', '157171.16', '0', '0', '0', '0', '30.110518', '-81.727478', 'Residential', 'Wood', '1']\n"
     ]
    }
   ],
   "source": [
    "import csv\n",
    "csv_reader = csv.reader(open('./sample.csv', newline=''), delimiter=',', quotechar='|')\n",
    "for row in csv_reader:\n",
    "    print(row)\n",
    "    \n",
    "\n",
    "csv_writer = csv.writer(open('./sample.tsv', 'w', newline=''), delimiter='\\t',quotechar='|')\n",
    "for row in csv_reader:\n",
    "    csv_writer.writerow(row)\n"
   ]
  },
  {
   "cell_type": "code",
   "execution_count": null,
   "metadata": {},
   "outputs": [],
   "source": []
  }
 ],
 "metadata": {
  "kernelspec": {
   "display_name": "Python 3",
   "language": "python",
   "name": "python3"
  },
  "language_info": {
   "codemirror_mode": {
    "name": "ipython",
    "version": 3
   },
   "file_extension": ".py",
   "mimetype": "text/x-python",
   "name": "python",
   "nbconvert_exporter": "python",
   "pygments_lexer": "ipython3",
   "version": "3.6.5"
  }
 },
 "nbformat": 4,
 "nbformat_minor": 2
}
