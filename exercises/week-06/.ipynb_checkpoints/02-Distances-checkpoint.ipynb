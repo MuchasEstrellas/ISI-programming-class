{
 "cells": [
  {
   "cell_type": "markdown",
   "metadata": {
    "collapsed": true
   },
   "source": [
    "# Distances"
   ]
  },
  {
   "cell_type": "code",
   "execution_count": 1,
   "metadata": {},
   "outputs": [],
   "source": [
    "import numpy as np"
   ]
  },
  {
   "cell_type": "code",
   "execution_count": 2,
   "metadata": {},
   "outputs": [],
   "source": [
    "#TODO\n",
    "def MinkowskiDistance(x,y,r):\n",
    "    return 1\n",
    "\n",
    "def ManhattanDistance(x,y):\n",
    "    return 1\n",
    "\n",
    "def EuclideanDistance(x,y):\n",
    "    return 1\n",
    "\n",
    "def Chebyshevdistance(x,y):\n",
    "    return 1\n",
    "\n",
    "def CosinDistance(x,y):\n",
    "    return 1"
   ]
  },
  {
   "cell_type": "markdown",
   "metadata": {},
   "source": [
    "# Usage"
   ]
  },
  {
   "cell_type": "markdown",
   "metadata": {},
   "source": [
    "# Example from the lecture"
   ]
  },
  {
   "cell_type": "markdown",
   "metadata": {},
   "source": [
    "<img src=\"images/distance_table.png\"/>"
   ]
  },
  {
   "cell_type": "code",
   "execution_count": 3,
   "metadata": {},
   "outputs": [],
   "source": [
    "points =np.matrix([\n",
    "    [0,2],\n",
    "    [2,0],\n",
    "    [3,1],\n",
    "    [5,1],\n",
    "])"
   ]
  },
  {
   "cell_type": "code",
   "execution_count": 4,
   "metadata": {},
   "outputs": [
    {
     "name": "stdout",
     "output_type": "stream",
     "text": [
      "EuclideanDistance\n",
      "[[1. 1. 1. 1.]\n",
      " [1. 1. 1. 1.]\n",
      " [1. 1. 1. 1.]\n",
      " [1. 1. 1. 1.]]\n",
      "\n",
      "ManhattanDistance\n",
      "[[1. 1. 1. 1.]\n",
      " [1. 1. 1. 1.]\n",
      " [1. 1. 1. 1.]\n",
      " [1. 1. 1. 1.]]\n",
      "\n",
      "SupremumDistance\n",
      "[[1. 1. 1. 1.]\n",
      " [1. 1. 1. 1.]\n",
      " [1. 1. 1. 1.]\n",
      " [1. 1. 1. 1.]]\n",
      "\n",
      "MinkowskiDistance with r = 3\n",
      "[[1. 1. 1. 1.]\n",
      " [1. 1. 1. 1.]\n",
      " [1. 1. 1. 1.]\n",
      " [1. 1. 1. 1.]]\n",
      "\n",
      "CosinDistance\n",
      "[[1. 1. 1. 1.]\n",
      " [1. 1. 1. 1.]\n",
      " [1. 1. 1. 1.]\n",
      " [1. 1. 1. 1.]]\n"
     ]
    }
   ],
   "source": [
    "tables = np.zeros((points.shape[0],points.shape[0]))\n",
    "for i in range(len(points)):\n",
    "    for j in range(len(points)):\n",
    "        tables[i][j]=(EuclideanDistance(points[i],points[j]))\n",
    "print(\"EuclideanDistance\")\n",
    "print(tables)\n",
    "    \n",
    "tables = np.zeros((points.shape[0],points.shape[0]))\n",
    "for i in range(len(points)):\n",
    "    for j in range(len(points)):\n",
    "        tables[i][j]=(ManhattanDistance(points[i],points[j]))\n",
    "print(\"\\nManhattanDistance\")\n",
    "print(tables)\n",
    "    \n",
    "tables = np.zeros((points.shape[0],points.shape[0]))\n",
    "for i in range(len(points)):\n",
    "    for j in range(len(points)):\n",
    "        tables[i][j]=(Chebyshevdistance(points[i],points[j]))\n",
    "print(\"\\nSupremumDistance\")\n",
    "print(tables)\n",
    "\n",
    "\n",
    "tables = np.zeros((points.shape[0],points.shape[0]))\n",
    "for i in range(len(points)):\n",
    "    for j in range(len(points)):\n",
    "        tables[i][j]=(MinkowskiDistance(points[i],points[j],3))\n",
    "print(\"\\nMinkowskiDistance with r = 3\")\n",
    "print(tables)\n",
    "\n",
    "tables = np.zeros((points.shape[0],points.shape[0]))\n",
    "for i in range(len(points)):\n",
    "    for j in range(len(points)):\n",
    "        tables[i][j]=(CosinDistance(points[i],points[j]))\n",
    "print(\"\\nCosinDistance\")\n",
    "print(tables)\n"
   ]
  }
 ],
 "metadata": {
  "kernelspec": {
   "display_name": "Python 3",
   "language": "python",
   "name": "python3"
  },
  "language_info": {
   "codemirror_mode": {
    "name": "ipython",
    "version": 3
   },
   "file_extension": ".py",
   "mimetype": "text/x-python",
   "name": "python",
   "nbconvert_exporter": "python",
   "pygments_lexer": "ipython3",
   "version": "3.7.0"
  }
 },
 "nbformat": 4,
 "nbformat_minor": 2
}
