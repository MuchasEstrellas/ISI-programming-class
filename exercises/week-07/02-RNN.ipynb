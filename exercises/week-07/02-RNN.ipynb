{
 "cells": [
  {
   "cell_type": "markdown",
   "metadata": {},
   "source": [
    "# Recurrent Neural Network"
   ]
  },
  {
   "cell_type": "code",
   "execution_count": 1,
   "metadata": {},
   "outputs": [],
   "source": [
    "import pandas as pd\n",
    "import numpy as np\n",
    "import matplotlib.pyplot as plt\n",
    "%matplotlib inline"
   ]
  },
  {
   "cell_type": "code",
   "execution_count": 2,
   "metadata": {},
   "outputs": [],
   "source": [
    "prices = pd.read_csv('market-price.csv')"
   ]
  },
  {
   "cell_type": "code",
   "execution_count": 3,
   "metadata": {},
   "outputs": [
    {
     "data": {
      "text/html": [
       "<div>\n",
       "<style scoped>\n",
       "    .dataframe tbody tr th:only-of-type {\n",
       "        vertical-align: middle;\n",
       "    }\n",
       "\n",
       "    .dataframe tbody tr th {\n",
       "        vertical-align: top;\n",
       "    }\n",
       "\n",
       "    .dataframe thead th {\n",
       "        text-align: right;\n",
       "    }\n",
       "</style>\n",
       "<table border=\"1\" class=\"dataframe\">\n",
       "  <thead>\n",
       "    <tr style=\"text-align: right;\">\n",
       "      <th></th>\n",
       "      <th>2018-05-02 00:00:00</th>\n",
       "      <th>9221.426</th>\n",
       "    </tr>\n",
       "  </thead>\n",
       "  <tbody>\n",
       "    <tr>\n",
       "      <th>0</th>\n",
       "      <td>2018-05-03 00:00:00</td>\n",
       "      <td>9639.268333</td>\n",
       "    </tr>\n",
       "    <tr>\n",
       "      <th>1</th>\n",
       "      <td>2018-05-04 00:00:00</td>\n",
       "      <td>9710.730000</td>\n",
       "    </tr>\n",
       "    <tr>\n",
       "      <th>2</th>\n",
       "      <td>2018-05-05 00:00:00</td>\n",
       "      <td>9803.306667</td>\n",
       "    </tr>\n",
       "    <tr>\n",
       "      <th>3</th>\n",
       "      <td>2018-05-06 00:00:00</td>\n",
       "      <td>9630.136277</td>\n",
       "    </tr>\n",
       "    <tr>\n",
       "      <th>4</th>\n",
       "      <td>2018-05-07 00:00:00</td>\n",
       "      <td>9345.690000</td>\n",
       "    </tr>\n",
       "  </tbody>\n",
       "</table>\n",
       "</div>"
      ],
      "text/plain": [
       "   2018-05-02 00:00:00     9221.426\n",
       "0  2018-05-03 00:00:00  9639.268333\n",
       "1  2018-05-04 00:00:00  9710.730000\n",
       "2  2018-05-05 00:00:00  9803.306667\n",
       "3  2018-05-06 00:00:00  9630.136277\n",
       "4  2018-05-07 00:00:00  9345.690000"
      ]
     },
     "execution_count": 3,
     "metadata": {},
     "output_type": "execute_result"
    }
   ],
   "source": [
    "prices.head()"
   ]
  },
  {
   "cell_type": "code",
   "execution_count": 4,
   "metadata": {},
   "outputs": [
    {
     "data": {
      "text/html": [
       "<div>\n",
       "<style scoped>\n",
       "    .dataframe tbody tr th:only-of-type {\n",
       "        vertical-align: middle;\n",
       "    }\n",
       "\n",
       "    .dataframe tbody tr th {\n",
       "        vertical-align: top;\n",
       "    }\n",
       "\n",
       "    .dataframe thead th {\n",
       "        text-align: right;\n",
       "    }\n",
       "</style>\n",
       "<table border=\"1\" class=\"dataframe\">\n",
       "  <thead>\n",
       "    <tr style=\"text-align: right;\">\n",
       "      <th></th>\n",
       "      <th>time</th>\n",
       "      <th>price</th>\n",
       "    </tr>\n",
       "  </thead>\n",
       "  <tbody>\n",
       "    <tr>\n",
       "      <th>0</th>\n",
       "      <td>2018-05-03 00:00:00</td>\n",
       "      <td>9639.268333</td>\n",
       "    </tr>\n",
       "    <tr>\n",
       "      <th>1</th>\n",
       "      <td>2018-05-04 00:00:00</td>\n",
       "      <td>9710.730000</td>\n",
       "    </tr>\n",
       "    <tr>\n",
       "      <th>2</th>\n",
       "      <td>2018-05-05 00:00:00</td>\n",
       "      <td>9803.306667</td>\n",
       "    </tr>\n",
       "    <tr>\n",
       "      <th>3</th>\n",
       "      <td>2018-05-06 00:00:00</td>\n",
       "      <td>9630.136277</td>\n",
       "    </tr>\n",
       "    <tr>\n",
       "      <th>4</th>\n",
       "      <td>2018-05-07 00:00:00</td>\n",
       "      <td>9345.690000</td>\n",
       "    </tr>\n",
       "  </tbody>\n",
       "</table>\n",
       "</div>"
      ],
      "text/plain": [
       "                  time        price\n",
       "0  2018-05-03 00:00:00  9639.268333\n",
       "1  2018-05-04 00:00:00  9710.730000\n",
       "2  2018-05-05 00:00:00  9803.306667\n",
       "3  2018-05-06 00:00:00  9630.136277\n",
       "4  2018-05-07 00:00:00  9345.690000"
      ]
     },
     "execution_count": 4,
     "metadata": {},
     "output_type": "execute_result"
    }
   ],
   "source": [
    "prices.columns = ['time','price']\n",
    "prices.head()"
   ]
  },
  {
   "cell_type": "code",
   "execution_count": 5,
   "metadata": {},
   "outputs": [],
   "source": [
    "prices.set_index('time',inplace=True)\n"
   ]
  },
  {
   "cell_type": "code",
   "execution_count": 6,
   "metadata": {},
   "outputs": [
    {
     "data": {
      "text/html": [
       "<div>\n",
       "<style scoped>\n",
       "    .dataframe tbody tr th:only-of-type {\n",
       "        vertical-align: middle;\n",
       "    }\n",
       "\n",
       "    .dataframe tbody tr th {\n",
       "        vertical-align: top;\n",
       "    }\n",
       "\n",
       "    .dataframe thead th {\n",
       "        text-align: right;\n",
       "    }\n",
       "</style>\n",
       "<table border=\"1\" class=\"dataframe\">\n",
       "  <thead>\n",
       "    <tr style=\"text-align: right;\">\n",
       "      <th></th>\n",
       "      <th>price</th>\n",
       "    </tr>\n",
       "    <tr>\n",
       "      <th>time</th>\n",
       "      <th></th>\n",
       "    </tr>\n",
       "  </thead>\n",
       "  <tbody>\n",
       "    <tr>\n",
       "      <th>2018-05-03 00:00:00</th>\n",
       "      <td>9639.268333</td>\n",
       "    </tr>\n",
       "    <tr>\n",
       "      <th>2018-05-04 00:00:00</th>\n",
       "      <td>9710.730000</td>\n",
       "    </tr>\n",
       "    <tr>\n",
       "      <th>2018-05-05 00:00:00</th>\n",
       "      <td>9803.306667</td>\n",
       "    </tr>\n",
       "    <tr>\n",
       "      <th>2018-05-06 00:00:00</th>\n",
       "      <td>9630.136277</td>\n",
       "    </tr>\n",
       "    <tr>\n",
       "      <th>2018-05-07 00:00:00</th>\n",
       "      <td>9345.690000</td>\n",
       "    </tr>\n",
       "  </tbody>\n",
       "</table>\n",
       "</div>"
      ],
      "text/plain": [
       "                           price\n",
       "time                            \n",
       "2018-05-03 00:00:00  9639.268333\n",
       "2018-05-04 00:00:00  9710.730000\n",
       "2018-05-05 00:00:00  9803.306667\n",
       "2018-05-06 00:00:00  9630.136277\n",
       "2018-05-07 00:00:00  9345.690000"
      ]
     },
     "execution_count": 6,
     "metadata": {},
     "output_type": "execute_result"
    }
   ],
   "source": [
    "prices.head()"
   ]
  },
  {
   "cell_type": "code",
   "execution_count": 7,
   "metadata": {},
   "outputs": [],
   "source": [
    "prices.index = pd.to_datetime(prices.index)"
   ]
  },
  {
   "cell_type": "code",
   "execution_count": 8,
   "metadata": {},
   "outputs": [
    {
     "data": {
      "text/html": [
       "<div>\n",
       "<style scoped>\n",
       "    .dataframe tbody tr th:only-of-type {\n",
       "        vertical-align: middle;\n",
       "    }\n",
       "\n",
       "    .dataframe tbody tr th {\n",
       "        vertical-align: top;\n",
       "    }\n",
       "\n",
       "    .dataframe thead th {\n",
       "        text-align: right;\n",
       "    }\n",
       "</style>\n",
       "<table border=\"1\" class=\"dataframe\">\n",
       "  <thead>\n",
       "    <tr style=\"text-align: right;\">\n",
       "      <th></th>\n",
       "      <th>price</th>\n",
       "    </tr>\n",
       "    <tr>\n",
       "      <th>time</th>\n",
       "      <th></th>\n",
       "    </tr>\n",
       "  </thead>\n",
       "  <tbody>\n",
       "    <tr>\n",
       "      <th>2018-05-03</th>\n",
       "      <td>9639.268333</td>\n",
       "    </tr>\n",
       "    <tr>\n",
       "      <th>2018-05-04</th>\n",
       "      <td>9710.730000</td>\n",
       "    </tr>\n",
       "    <tr>\n",
       "      <th>2018-05-05</th>\n",
       "      <td>9803.306667</td>\n",
       "    </tr>\n",
       "    <tr>\n",
       "      <th>2018-05-06</th>\n",
       "      <td>9630.136277</td>\n",
       "    </tr>\n",
       "    <tr>\n",
       "      <th>2018-05-07</th>\n",
       "      <td>9345.690000</td>\n",
       "    </tr>\n",
       "  </tbody>\n",
       "</table>\n",
       "</div>"
      ],
      "text/plain": [
       "                  price\n",
       "time                   \n",
       "2018-05-03  9639.268333\n",
       "2018-05-04  9710.730000\n",
       "2018-05-05  9803.306667\n",
       "2018-05-06  9630.136277\n",
       "2018-05-07  9345.690000"
      ]
     },
     "execution_count": 8,
     "metadata": {},
     "output_type": "execute_result"
    }
   ],
   "source": [
    "prices.head()"
   ]
  },
  {
   "cell_type": "code",
   "execution_count": 9,
   "metadata": {},
   "outputs": [
    {
     "data": {
      "text/plain": [
       "<matplotlib.axes._subplots.AxesSubplot at 0x120afaef0>"
      ]
     },
     "execution_count": 9,
     "metadata": {},
     "output_type": "execute_result"
    },
    {
     "data": {
      "image/png": "[encoded data removed]",
      "text/plain": [
       "<Figure size 432x288 with 1 Axes>"
      ]
     },
     "metadata": {
      "needs_background": "light"
     },
     "output_type": "display_data"
    }
   ],
   "source": [
    "prices.plot()"
   ]
  },
  {
   "cell_type": "code",
   "execution_count": null,
   "metadata": {},
   "outputs": [],
   "source": []
  },
  {
   "cell_type": "code",
   "execution_count": 10,
   "metadata": {},
   "outputs": [
    {
     "name": "stdout",
     "output_type": "stream",
     "text": [
      "<class 'pandas.core.frame.DataFrame'>\n",
      "DatetimeIndex: 179 entries, 2018-05-03 to 2018-10-28\n",
      "Data columns (total 1 columns):\n",
      "price    179 non-null float64\n",
      "dtypes: float64(1)\n",
      "memory usage: 2.8 KB\n"
     ]
    }
   ],
   "source": [
    "prices.info()"
   ]
  },
  {
   "cell_type": "code",
   "execution_count": 11,
   "metadata": {},
   "outputs": [],
   "source": [
    "TAIL_CNT = 14\n",
    "train_set = prices.head(TAIL_CNT*12)"
   ]
  },
  {
   "cell_type": "code",
   "execution_count": 12,
   "metadata": {},
   "outputs": [
    {
     "data": {
      "text/html": [
       "<div>\n",
       "<style scoped>\n",
       "    .dataframe tbody tr th:only-of-type {\n",
       "        vertical-align: middle;\n",
       "    }\n",
       "\n",
       "    .dataframe tbody tr th {\n",
       "        vertical-align: top;\n",
       "    }\n",
       "\n",
       "    .dataframe thead th {\n",
       "        text-align: right;\n",
       "    }\n",
       "</style>\n",
       "<table border=\"1\" class=\"dataframe\">\n",
       "  <thead>\n",
       "    <tr style=\"text-align: right;\">\n",
       "      <th></th>\n",
       "      <th>price</th>\n",
       "    </tr>\n",
       "    <tr>\n",
       "      <th>time</th>\n",
       "      <th></th>\n",
       "    </tr>\n",
       "  </thead>\n",
       "  <tbody>\n",
       "    <tr>\n",
       "      <th>2018-05-03</th>\n",
       "      <td>9639.268333</td>\n",
       "    </tr>\n",
       "    <tr>\n",
       "      <th>2018-05-04</th>\n",
       "      <td>9710.730000</td>\n",
       "    </tr>\n",
       "    <tr>\n",
       "      <th>2018-05-05</th>\n",
       "      <td>9803.306667</td>\n",
       "    </tr>\n",
       "    <tr>\n",
       "      <th>2018-05-06</th>\n",
       "      <td>9630.136277</td>\n",
       "    </tr>\n",
       "    <tr>\n",
       "      <th>2018-05-07</th>\n",
       "      <td>9345.690000</td>\n",
       "    </tr>\n",
       "  </tbody>\n",
       "</table>\n",
       "</div>"
      ],
      "text/plain": [
       "                  price\n",
       "time                   \n",
       "2018-05-03  9639.268333\n",
       "2018-05-04  9710.730000\n",
       "2018-05-05  9803.306667\n",
       "2018-05-06  9630.136277\n",
       "2018-05-07  9345.690000"
      ]
     },
     "execution_count": 12,
     "metadata": {},
     "output_type": "execute_result"
    }
   ],
   "source": [
    "train_set.head()"
   ]
  },
  {
   "cell_type": "code",
   "execution_count": 13,
   "metadata": {},
   "outputs": [],
   "source": [
    "test_set = prices.tail(TAIL_CNT)"
   ]
  },
  {
   "cell_type": "code",
   "execution_count": 14,
   "metadata": {},
   "outputs": [
    {
     "data": {
      "text/html": [
       "<div>\n",
       "<style scoped>\n",
       "    .dataframe tbody tr th:only-of-type {\n",
       "        vertical-align: middle;\n",
       "    }\n",
       "\n",
       "    .dataframe tbody tr th {\n",
       "        vertical-align: top;\n",
       "    }\n",
       "\n",
       "    .dataframe thead th {\n",
       "        text-align: right;\n",
       "    }\n",
       "</style>\n",
       "<table border=\"1\" class=\"dataframe\">\n",
       "  <thead>\n",
       "    <tr style=\"text-align: right;\">\n",
       "      <th></th>\n",
       "      <th>price</th>\n",
       "    </tr>\n",
       "    <tr>\n",
       "      <th>time</th>\n",
       "      <th></th>\n",
       "    </tr>\n",
       "  </thead>\n",
       "  <tbody>\n",
       "    <tr>\n",
       "      <th>2018-10-15</th>\n",
       "      <td>6452.571667</td>\n",
       "    </tr>\n",
       "    <tr>\n",
       "      <th>2018-10-16</th>\n",
       "      <td>6596.618333</td>\n",
       "    </tr>\n",
       "    <tr>\n",
       "      <th>2018-10-17</th>\n",
       "      <td>6596.276154</td>\n",
       "    </tr>\n",
       "    <tr>\n",
       "      <th>2018-10-18</th>\n",
       "      <td>6568.040769</td>\n",
       "    </tr>\n",
       "    <tr>\n",
       "      <th>2018-10-19</th>\n",
       "      <td>6487.444167</td>\n",
       "    </tr>\n",
       "    <tr>\n",
       "      <th>2018-10-20</th>\n",
       "      <td>6488.825833</td>\n",
       "    </tr>\n",
       "    <tr>\n",
       "      <th>2018-10-21</th>\n",
       "      <td>6531.601667</td>\n",
       "    </tr>\n",
       "    <tr>\n",
       "      <th>2018-10-22</th>\n",
       "      <td>6498.485833</td>\n",
       "    </tr>\n",
       "    <tr>\n",
       "      <th>2018-10-23</th>\n",
       "      <td>6481.426000</td>\n",
       "    </tr>\n",
       "    <tr>\n",
       "      <th>2018-10-24</th>\n",
       "      <td>6508.310000</td>\n",
       "    </tr>\n",
       "    <tr>\n",
       "      <th>2018-10-25</th>\n",
       "      <td>6478.082500</td>\n",
       "    </tr>\n",
       "    <tr>\n",
       "      <th>2018-10-26</th>\n",
       "      <td>6473.753333</td>\n",
       "    </tr>\n",
       "    <tr>\n",
       "      <th>2018-10-27</th>\n",
       "      <td>6465.917500</td>\n",
       "    </tr>\n",
       "    <tr>\n",
       "      <th>2018-10-28</th>\n",
       "      <td>6448.221667</td>\n",
       "    </tr>\n",
       "  </tbody>\n",
       "</table>\n",
       "</div>"
      ],
      "text/plain": [
       "                  price\n",
       "time                   \n",
       "2018-10-15  6452.571667\n",
       "2018-10-16  6596.618333\n",
       "2018-10-17  6596.276154\n",
       "2018-10-18  6568.040769\n",
       "2018-10-19  6487.444167\n",
       "2018-10-20  6488.825833\n",
       "2018-10-21  6531.601667\n",
       "2018-10-22  6498.485833\n",
       "2018-10-23  6481.426000\n",
       "2018-10-24  6508.310000\n",
       "2018-10-25  6478.082500\n",
       "2018-10-26  6473.753333\n",
       "2018-10-27  6465.917500\n",
       "2018-10-28  6448.221667"
      ]
     },
     "execution_count": 14,
     "metadata": {},
     "output_type": "execute_result"
    }
   ],
   "source": [
    "test_set"
   ]
  },
  {
   "cell_type": "code",
   "execution_count": 15,
   "metadata": {},
   "outputs": [],
   "source": [
    "from sklearn.preprocessing import MinMaxScaler\n",
    "scaler = MinMaxScaler()\n",
    "train_scaled = scaler.fit_transform(train_set)\n",
    "test_scaled = scaler.transform(test_set)"
   ]
  },
  {
   "cell_type": "code",
   "execution_count": 16,
   "metadata": {},
   "outputs": [],
   "source": [
    "def next_batch(training_data,batch_size,steps):\n",
    "    rand_start = np.random.randint(0,len(training_data)-steps) \n",
    "    y_batch = np.array(training_data[rand_start:rand_start+steps+1]).reshape(1,steps+1)\n",
    "\n",
    "    return y_batch[:, :-1].reshape(-1, steps, 1), y_batch[:, 1:].reshape(-1, steps, 1) "
   ]
  },
  {
   "cell_type": "code",
   "execution_count": 17,
   "metadata": {},
   "outputs": [],
   "source": [
    "import tensorflow as tf"
   ]
  },
  {
   "cell_type": "code",
   "execution_count": 18,
   "metadata": {},
   "outputs": [],
   "source": [
    "num_inputs = 1\n",
    "num_time_steps = TAIL_CNT\n",
    "num_neurons = 100\n",
    "num_outputs = 1\n",
    "learning_rate = 0.03\n",
    "num_train_iterations = 2000\n",
    "batch_size = 1"
   ]
  },
  {
   "cell_type": "code",
   "execution_count": 19,
   "metadata": {},
   "outputs": [],
   "source": [
    "X = tf.placeholder(tf.float32, [None, num_time_steps, num_inputs])\n",
    "y = tf.placeholder(tf.float32, [None, num_time_steps, num_outputs])"
   ]
  },
  {
   "cell_type": "code",
   "execution_count": 20,
   "metadata": {},
   "outputs": [
    {
     "name": "stdout",
     "output_type": "stream",
     "text": [
      "WARNING:tensorflow:From <ipython-input-20-c62615d9b55c>:2: BasicLSTMCell.__init__ (from tensorflow.python.ops.rnn_cell_impl) is deprecated and will be removed in a future version.\n",
      "Instructions for updating:\n",
      "This class is deprecated, please use tf.nn.rnn_cell.LSTMCell, which supports all the feature this cell currently has. Please replace the existing code with tf.nn.rnn_cell.LSTMCell(name='basic_lstm_cell').\n"
     ]
    }
   ],
   "source": [
    "cell = tf.contrib.rnn.OutputProjectionWrapper(\n",
    "    tf.contrib.rnn.BasicLSTMCell(num_units=num_neurons, activation=tf.nn.relu),\n",
    "    output_size=num_outputs) "
   ]
  },
  {
   "cell_type": "code",
   "execution_count": 21,
   "metadata": {},
   "outputs": [],
   "source": [
    "outputs, states = tf.nn.dynamic_rnn(cell, X, dtype=tf.float32)"
   ]
  },
  {
   "cell_type": "code",
   "execution_count": 22,
   "metadata": {},
   "outputs": [],
   "source": [
    "loss = tf.reduce_mean(tf.square(outputs - y)) # MSE\n",
    "optimizer = tf.train.AdamOptimizer(learning_rate=learning_rate)\n",
    "train = optimizer.minimize(loss)"
   ]
  },
  {
   "cell_type": "code",
   "execution_count": 23,
   "metadata": {},
   "outputs": [],
   "source": [
    "init = tf.global_variables_initializer()"
   ]
  },
  {
   "cell_type": "code",
   "execution_count": 24,
   "metadata": {},
   "outputs": [],
   "source": [
    "saver = tf.train.Saver()"
   ]
  },
  {
   "cell_type": "code",
   "execution_count": 25,
   "metadata": {},
   "outputs": [
    {
     "name": "stdout",
     "output_type": "stream",
     "text": [
      "0 \tMSE: 0.19613874\n",
      "100 \tMSE: 0.010964601\n",
      "200 \tMSE: 0.0007052385\n",
      "300 \tMSE: 0.00094290037\n",
      "400 \tMSE: 0.0023970653\n",
      "500 \tMSE: 0.0010300222\n",
      "600 \tMSE: 0.0026471687\n",
      "700 \tMSE: 0.0062885666\n",
      "800 \tMSE: 0.0031408896\n",
      "900 \tMSE: 0.002717069\n",
      "1000 \tMSE: 0.0016510157\n",
      "1100 \tMSE: 0.002600547\n",
      "1200 \tMSE: 0.00055920536\n",
      "1300 \tMSE: 0.0018615148\n",
      "1400 \tMSE: 0.004136685\n",
      "1500 \tMSE: 0.0047345525\n",
      "1600 \tMSE: 0.0018456882\n",
      "1700 \tMSE: 0.0021083518\n",
      "1800 \tMSE: 0.0030192386\n",
      "1900 \tMSE: 0.001798847\n"
     ]
    }
   ],
   "source": [
    "with tf.Session(config=tf.ConfigProto()) as sess:\n",
    "    sess.run(init)\n",
    "    \n",
    "    for iteration in range(num_train_iterations):\n",
    "        \n",
    "        X_batch, y_batch = next_batch(train_scaled,batch_size,num_time_steps)\n",
    "        sess.run(train, feed_dict={X: X_batch, y: y_batch})\n",
    "        \n",
    "        if iteration % 100 == 0:\n",
    "            \n",
    "            mse = loss.eval(feed_dict={X: X_batch, y: y_batch})\n",
    "            print(iteration, \"\\tMSE:\", mse)\n",
    "    \n",
    "    # Save Model for Later\n",
    "    saver.save(sess, \"./model2/rnn_model\")"
   ]
  },
  {
   "cell_type": "code",
   "execution_count": 26,
   "metadata": {},
   "outputs": [
    {
     "data": {
      "text/html": [
       "<div>\n",
       "<style scoped>\n",
       "    .dataframe tbody tr th:only-of-type {\n",
       "        vertical-align: middle;\n",
       "    }\n",
       "\n",
       "    .dataframe tbody tr th {\n",
       "        vertical-align: top;\n",
       "    }\n",
       "\n",
       "    .dataframe thead th {\n",
       "        text-align: right;\n",
       "    }\n",
       "</style>\n",
       "<table border=\"1\" class=\"dataframe\">\n",
       "  <thead>\n",
       "    <tr style=\"text-align: right;\">\n",
       "      <th></th>\n",
       "      <th>price</th>\n",
       "    </tr>\n",
       "    <tr>\n",
       "      <th>time</th>\n",
       "      <th></th>\n",
       "    </tr>\n",
       "  </thead>\n",
       "  <tbody>\n",
       "    <tr>\n",
       "      <th>2018-10-15</th>\n",
       "      <td>6452.571667</td>\n",
       "    </tr>\n",
       "    <tr>\n",
       "      <th>2018-10-16</th>\n",
       "      <td>6596.618333</td>\n",
       "    </tr>\n",
       "    <tr>\n",
       "      <th>2018-10-17</th>\n",
       "      <td>6596.276154</td>\n",
       "    </tr>\n",
       "    <tr>\n",
       "      <th>2018-10-18</th>\n",
       "      <td>6568.040769</td>\n",
       "    </tr>\n",
       "    <tr>\n",
       "      <th>2018-10-19</th>\n",
       "      <td>6487.444167</td>\n",
       "    </tr>\n",
       "    <tr>\n",
       "      <th>2018-10-20</th>\n",
       "      <td>6488.825833</td>\n",
       "    </tr>\n",
       "    <tr>\n",
       "      <th>2018-10-21</th>\n",
       "      <td>6531.601667</td>\n",
       "    </tr>\n",
       "    <tr>\n",
       "      <th>2018-10-22</th>\n",
       "      <td>6498.485833</td>\n",
       "    </tr>\n",
       "    <tr>\n",
       "      <th>2018-10-23</th>\n",
       "      <td>6481.426000</td>\n",
       "    </tr>\n",
       "    <tr>\n",
       "      <th>2018-10-24</th>\n",
       "      <td>6508.310000</td>\n",
       "    </tr>\n",
       "    <tr>\n",
       "      <th>2018-10-25</th>\n",
       "      <td>6478.082500</td>\n",
       "    </tr>\n",
       "    <tr>\n",
       "      <th>2018-10-26</th>\n",
       "      <td>6473.753333</td>\n",
       "    </tr>\n",
       "    <tr>\n",
       "      <th>2018-10-27</th>\n",
       "      <td>6465.917500</td>\n",
       "    </tr>\n",
       "    <tr>\n",
       "      <th>2018-10-28</th>\n",
       "      <td>6448.221667</td>\n",
       "    </tr>\n",
       "  </tbody>\n",
       "</table>\n",
       "</div>"
      ],
      "text/plain": [
       "                  price\n",
       "time                   \n",
       "2018-10-15  6452.571667\n",
       "2018-10-16  6596.618333\n",
       "2018-10-17  6596.276154\n",
       "2018-10-18  6568.040769\n",
       "2018-10-19  6487.444167\n",
       "2018-10-20  6488.825833\n",
       "2018-10-21  6531.601667\n",
       "2018-10-22  6498.485833\n",
       "2018-10-23  6481.426000\n",
       "2018-10-24  6508.310000\n",
       "2018-10-25  6478.082500\n",
       "2018-10-26  6473.753333\n",
       "2018-10-27  6465.917500\n",
       "2018-10-28  6448.221667"
      ]
     },
     "execution_count": 26,
     "metadata": {},
     "output_type": "execute_result"
    }
   ],
   "source": [
    "test_set"
   ]
  },
  {
   "cell_type": "code",
   "execution_count": 27,
   "metadata": {},
   "outputs": [
    {
     "name": "stdout",
     "output_type": "stream",
     "text": [
      "INFO:tensorflow:Restoring parameters from ./model2/rnn_model\n"
     ]
    }
   ],
   "source": [
    "with tf.Session() as sess:\n",
    "    saver.restore(sess, \"./model2/rnn_model\")\n",
    "    train_seed = list(train_scaled[-TAIL_CNT:])\n",
    "    \n",
    "    for iteration in range(TAIL_CNT):\n",
    "        X_batch = np.array(train_seed[-num_time_steps:]).reshape(1, num_time_steps, 1)\n",
    "        y_pred = sess.run(outputs, feed_dict={X: X_batch})\n",
    "        train_seed.append(y_pred[0, -1, 0])"
   ]
  },
  {
   "cell_type": "code",
   "execution_count": 28,
   "metadata": {},
   "outputs": [
    {
     "data": {
      "text/plain": [
       "[array([0.16816236]),\n",
       " array([0.16942586]),\n",
       " array([0.17274777]),\n",
       " array([0.16685521]),\n",
       " array([0.18226889]),\n",
       " array([0.18307616]),\n",
       " array([0.16800338]),\n",
       " array([0.08728315]),\n",
       " array([0.09033738]),\n",
       " array([0.09036691]),\n",
       " array([0.10031743]),\n",
       " array([0.13964684]),\n",
       " array([0.17663306]),\n",
       " array([0.1765452]),\n",
       " 0.16416708,\n",
       " 0.14704299,\n",
       " 0.12717943,\n",
       " 0.1063898,\n",
       " 0.08953639,\n",
       " 0.07919914,\n",
       " 0.07439278,\n",
       " 0.073502846,\n",
       " 0.07493195,\n",
       " 0.0773771,\n",
       " 0.079940856,\n",
       " 0.08211639,\n",
       " 0.08370086,\n",
       " 0.08468761]"
      ]
     },
     "execution_count": 28,
     "metadata": {},
     "output_type": "execute_result"
    }
   ],
   "source": [
    "train_seed"
   ]
  },
  {
   "cell_type": "code",
   "execution_count": 29,
   "metadata": {},
   "outputs": [],
   "source": [
    "results = scaler.inverse_transform(np.array(train_seed[TAIL_CNT:]).reshape(TAIL_CNT,1))"
   ]
  },
  {
   "cell_type": "code",
   "execution_count": 30,
   "metadata": {},
   "outputs": [
    {
     "name": "stderr",
     "output_type": "stream",
     "text": [
      "/Users/seojungwon/anaconda3/lib/python3.6/site-packages/ipykernel_launcher.py:1: SettingWithCopyWarning: \n",
      "A value is trying to be set on a copy of a slice from a DataFrame.\n",
      "Try using .loc[row_indexer,col_indexer] = value instead\n",
      "\n",
      "See the caveats in the documentation: http://pandas.pydata.org/pandas-docs/stable/indexing.html#indexing-view-versus-copy\n",
      "  \"\"\"Entry point for launching an IPython kernel.\n"
     ]
    }
   ],
   "source": [
    "test_set['Generated'] = results"
   ]
  },
  {
   "cell_type": "code",
   "execution_count": 31,
   "metadata": {},
   "outputs": [
    {
     "data": {
      "text/html": [
       "<div>\n",
       "<style scoped>\n",
       "    .dataframe tbody tr th:only-of-type {\n",
       "        vertical-align: middle;\n",
       "    }\n",
       "\n",
       "    .dataframe tbody tr th {\n",
       "        vertical-align: top;\n",
       "    }\n",
       "\n",
       "    .dataframe thead th {\n",
       "        text-align: right;\n",
       "    }\n",
       "</style>\n",
       "<table border=\"1\" class=\"dataframe\">\n",
       "  <thead>\n",
       "    <tr style=\"text-align: right;\">\n",
       "      <th></th>\n",
       "      <th>price</th>\n",
       "      <th>Generated</th>\n",
       "    </tr>\n",
       "    <tr>\n",
       "      <th>time</th>\n",
       "      <th></th>\n",
       "      <th></th>\n",
       "    </tr>\n",
       "  </thead>\n",
       "  <tbody>\n",
       "    <tr>\n",
       "      <th>2018-10-15</th>\n",
       "      <td>6452.571667</td>\n",
       "      <td>6548.068359</td>\n",
       "    </tr>\n",
       "    <tr>\n",
       "      <th>2018-10-16</th>\n",
       "      <td>6596.618333</td>\n",
       "      <td>6481.376953</td>\n",
       "    </tr>\n",
       "    <tr>\n",
       "      <th>2018-10-17</th>\n",
       "      <td>6596.276154</td>\n",
       "      <td>6404.016113</td>\n",
       "    </tr>\n",
       "    <tr>\n",
       "      <th>2018-10-18</th>\n",
       "      <td>6568.040769</td>\n",
       "      <td>6323.048828</td>\n",
       "    </tr>\n",
       "    <tr>\n",
       "      <th>2018-10-19</th>\n",
       "      <td>6487.444167</td>\n",
       "      <td>6257.411133</td>\n",
       "    </tr>\n",
       "    <tr>\n",
       "      <th>2018-10-20</th>\n",
       "      <td>6488.825833</td>\n",
       "      <td>6217.151855</td>\n",
       "    </tr>\n",
       "    <tr>\n",
       "      <th>2018-10-21</th>\n",
       "      <td>6531.601667</td>\n",
       "      <td>6198.433105</td>\n",
       "    </tr>\n",
       "    <tr>\n",
       "      <th>2018-10-22</th>\n",
       "      <td>6498.485833</td>\n",
       "      <td>6194.966797</td>\n",
       "    </tr>\n",
       "    <tr>\n",
       "      <th>2018-10-23</th>\n",
       "      <td>6481.426000</td>\n",
       "      <td>6200.533203</td>\n",
       "    </tr>\n",
       "    <tr>\n",
       "      <th>2018-10-24</th>\n",
       "      <td>6508.310000</td>\n",
       "      <td>6210.055664</td>\n",
       "    </tr>\n",
       "    <tr>\n",
       "      <th>2018-10-25</th>\n",
       "      <td>6478.082500</td>\n",
       "      <td>6220.040527</td>\n",
       "    </tr>\n",
       "    <tr>\n",
       "      <th>2018-10-26</th>\n",
       "      <td>6473.753333</td>\n",
       "      <td>6228.513184</td>\n",
       "    </tr>\n",
       "    <tr>\n",
       "      <th>2018-10-27</th>\n",
       "      <td>6465.917500</td>\n",
       "      <td>6234.684082</td>\n",
       "    </tr>\n",
       "    <tr>\n",
       "      <th>2018-10-28</th>\n",
       "      <td>6448.221667</td>\n",
       "      <td>6238.527344</td>\n",
       "    </tr>\n",
       "  </tbody>\n",
       "</table>\n",
       "</div>"
      ],
      "text/plain": [
       "                  price    Generated\n",
       "time                                \n",
       "2018-10-15  6452.571667  6548.068359\n",
       "2018-10-16  6596.618333  6481.376953\n",
       "2018-10-17  6596.276154  6404.016113\n",
       "2018-10-18  6568.040769  6323.048828\n",
       "2018-10-19  6487.444167  6257.411133\n",
       "2018-10-20  6488.825833  6217.151855\n",
       "2018-10-21  6531.601667  6198.433105\n",
       "2018-10-22  6498.485833  6194.966797\n",
       "2018-10-23  6481.426000  6200.533203\n",
       "2018-10-24  6508.310000  6210.055664\n",
       "2018-10-25  6478.082500  6220.040527\n",
       "2018-10-26  6473.753333  6228.513184\n",
       "2018-10-27  6465.917500  6234.684082\n",
       "2018-10-28  6448.221667  6238.527344"
      ]
     },
     "execution_count": 31,
     "metadata": {},
     "output_type": "execute_result"
    }
   ],
   "source": [
    "test_set"
   ]
  },
  {
   "cell_type": "code",
   "execution_count": 32,
   "metadata": {},
   "outputs": [
    {
     "data": {
      "text/plain": [
       "<matplotlib.axes._subplots.AxesSubplot at 0x1c432e6898>"
      ]
     },
     "execution_count": 32,
     "metadata": {},
     "output_type": "execute_result"
    },
    {
     "data": {
      "image/png": "[encoded data removed]",
      "text/plain": [
       "<Figure size 432x288 with 1 Axes>"
      ]
     },
     "metadata": {
      "needs_background": "light"
     },
     "output_type": "display_data"
    }
   ],
   "source": [
    "test_set.plot()"
   ]
  }
 ],
 "metadata": {
  "kernelspec": {
   "display_name": "Python 3",
   "language": "python",
   "name": "python3"
  },
  "language_info": {
   "codemirror_mode": {
    "name": "ipython",
    "version": 3
   },
   "file_extension": ".py",
   "mimetype": "text/x-python",
   "name": "python",
   "nbconvert_exporter": "python",
   "pygments_lexer": "ipython3",
   "version": "3.6.6"
  }
 },
 "nbformat": 4,
 "nbformat_minor": 2
}
